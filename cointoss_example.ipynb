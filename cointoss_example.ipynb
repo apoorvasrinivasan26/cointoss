{
 "cells": [
  {
   "cell_type": "markdown",
   "metadata": {},
   "source": [
    "### Write a function that returns a sequence of heads and tails in Python\n"
   ]
  },
  {
   "cell_type": "code",
   "execution_count": 7,
   "metadata": {},
   "outputs": [
    {
     "name": "stdout",
     "output_type": "stream",
     "text": [
      "tails\n",
      "tails\n",
      "heads\n",
      "heads\n",
      "tails\n",
      "heads\n",
      "tails\n",
      "tails\n",
      "tails\n",
      "tails\n",
      "tails\n",
      "tails\n",
      "tails\n",
      "tails\n",
      "tails\n",
      "heads\n",
      "heads\n",
      "tails\n",
      "heads\n",
      "tails\n"
     ]
    }
   ],
   "source": [
    "import random \n",
    "coin_flip = ['heads','tails']\n",
    "flips = 20\n",
    "for i in range (flips):\n",
    "    print (random.choice(coin_flip))"
   ]
  },
  {
   "cell_type": "markdown",
   "metadata": {},
   "source": [
    "#### Write the computational(time) complexity of the function"
   ]
  },
  {
   "cell_type": "markdown",
   "metadata": {},
   "source": [
    "A) O(n) i.e. the running time required to compute the output is a function of n where n is the input size"
   ]
  },
  {
   "cell_type": "markdown",
   "metadata": {},
   "source": [
    "#### Q) How to estimate the probability of heads from observed data."
   ]
  },
  {
   "cell_type": "markdown",
   "metadata": {},
   "source": [
    "We do the coin tossing n times, getting say m heads. Then our estimate for the probability of heads p(h) = is m/n\n"
   ]
  },
  {
   "cell_type": "markdown",
   "metadata": {},
   "source": [
    "####  How to calculate the uncertainty in the probability of heads. And then the question further by checking whether it would be a skewed or symmetric distribution"
   ]
  },
  {
   "cell_type": "markdown",
   "metadata": {},
   "source": [
    "The estimated of a proportion of a sample (p = m/n) has a standard error (standard deviation of error) given by: $s_p = \\sqrt{p(1-p)/n}$ where n is the number of trials. The standard error $s_p$ function of $p$ has a maximum at $p = (1-p) = 0.5$. Further, in the case of a coin being tossed, it is likely that p will be not far from 0.5, so it is reasonable to take p=0.5 in the following: $s_p = \\sqrt{p(1-p)/n} = \\leq \\sqrt{0.5(0.5)/n} = 1/2\\sqrt{n}$.\n",
    "\n",
    "Since binomial distribution converges to normal due to CLT,\n",
    "\n",
    "the value of maximum error (E) is given by $$E = Zs_p = Z/2\\sqrt{n}$$\n",
    "\n",
    "We are 95% confident that the probability of heads lies between $(p - 1.96/2\\sqrt{n}, p + 1.96/2\\sqrt{n})$\n",
    "\n",
    "\n",
    "It will be a symmetric distribution because it's assumed normal\n",
    "\n"
   ]
  },
  {
   "cell_type": "markdown",
   "metadata": {},
   "source": [
    "#### Coin bias simulation \n",
    "\n",
    "Source: https://pastebin.com/ceSHwFkW"
   ]
  },
  {
   "cell_type": "code",
   "execution_count": 10,
   "metadata": {},
   "outputs": [
    {
     "data": {
      "image/png": "[encoded data removed]",
      "text/plain": [
       "<Figure size 432x288 with 1 Axes>"
      ]
     },
     "metadata": {
      "needs_background": "light"
     },
     "output_type": "display_data"
    }
   ],
   "source": [
    "import numpy as np\n",
    "import matplotlib.pyplot as plt\n",
    "\n",
    "\n",
    "N = 15000 # Number of flips\n",
    "BIAS_HEADS = 0.3 # The bias of the coin\n",
    "\n",
    "\n",
    "bias_range = np.linspace(0, 1, 101) # The range of possible biases\n",
    "prior_bias_heads = np.ones(len(bias_range)) / len(bias_range) # Uniform prior distribution\n",
    "flip_series = (np.random.rand(N) <= BIAS_HEADS).astype(int) # A series of N 0's and 1's (coin flips)\n",
    "\n",
    "for flip in flip_series:\n",
    "    likelihood = bias_range**flip * (1-bias_range)**(1-flip)\n",
    "    evidence = np.sum(likelihood * prior_bias_heads)\n",
    "    prior_bias_heads = likelihood * prior_bias_heads / evidence\n",
    "\n",
    "plt.plot(bias_range, prior_bias_heads)\n",
    "plt.xlabel('Heads Bias')\n",
    "plt.ylabel('P(Heads Bias)')\n",
    "plt.grid()\n",
    "plt.show()"
   ]
  },
  {
   "cell_type": "markdown",
   "metadata": {},
   "source": [
    "#### Write a recursive function to get sequence of heads and tails"
   ]
  },
  {
   "cell_type": "code",
   "execution_count": 30,
   "metadata": {
    "scrolled": true
   },
   "outputs": [
    {
     "name": "stdout",
     "output_type": "stream",
     "text": [
      "7\n",
      "['Tails', 'Heads', 'Tails', 'Tails', 'Heads', 'Tails', 'Tails', 'Heads', 'Heads', 'Heads', 'Tails', 'Tails', 'Tails', 'Tails', 'Tails', 'Heads', 'Tails', 'Tails', 'Heads', 'Tails']\n"
     ]
    }
   ],
   "source": [
    "output = []\n",
    "def coinflip(n):\n",
    "    \n",
    "    if n <= 0:\n",
    "        return 0\n",
    "    else:\n",
    "        flip = random.choice([\"Heads\",\"Tails\"])\n",
    "        output.append(flip)\n",
    "    \n",
    "    if flip == \"Heads\":\n",
    "        return 1 + coinflip(n-1)\n",
    "    else:\n",
    "        return 0 + coinflip(n-1)\n",
    "    \n",
    "\n",
    "a=coinflip(20)\n",
    "print(a)\n",
    "print(output)"
   ]
  },
  {
   "cell_type": "code",
   "execution_count": null,
   "metadata": {},
   "outputs": [],
   "source": []
  }
 ],
 "metadata": {
  "kernelspec": {
   "display_name": "Python 3",
   "language": "python",
   "name": "python3"
  },
  "language_info": {
   "codemirror_mode": {
    "name": "ipython",
    "version": 3
   },
   "file_extension": ".py",
   "mimetype": "text/x-python",
   "name": "python",
   "nbconvert_exporter": "python",
   "pygments_lexer": "ipython3",
   "version": "3.6.9"
  }
 },
 "nbformat": 4,
 "nbformat_minor": 2
}
